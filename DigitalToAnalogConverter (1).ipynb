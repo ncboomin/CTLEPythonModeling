{
 "cells": [
  {
   "cell_type": "code",
   "execution_count": 19,
   "id": "9103d39f",
   "metadata": {},
   "outputs": [
    {
     "name": "stdout",
     "output_type": "stream",
     "text": [
      "13.0\n",
      "13.0/s\n"
     ]
    }
   ],
   "source": [
    "import numpy as np\n",
    "import scipy.signal as signal \n",
    "%matplotlib notebook \n",
    "import matplotlib.pyplot as plt \n",
    "import sympy \n",
    "import math \n",
    "t, s = sympy.symbols('t, s')\n",
    "a = sympy.symbols('a', real=True, positive=True)\n",
    "\n",
    "#Takes in a 4 bit sequence, (ie;1011), and converts this to its decimal equivalent\n",
    "#Based on the input voltage provided, this binary value output is respectively scaled\n",
    "\n",
    "\n",
    "def dToAConverter(sequence, maxVoltage):\n",
    "    highestVolts = maxVoltage\n",
    "    stepVoltage = maxVoltage/15;\n",
    "    level = int(sequence, 2)\n",
    "    voltAtLevel = level*stepVoltage\n",
    "    return voltAtLevel\n",
    "\n",
    "curVolt = dToAConverter(\"1101\", 15)\n",
    "print(curVolt)\n",
    "\n",
    "#Laplace transformation of this time domain voltage\n",
    "F = sympy.laplace_transform(curVolt, t, s, noconds=True)\n",
    "print(F)\n",
    "    \n",
    "   \n",
    "\n",
    "\n"
   ]
  },
  {
   "cell_type": "code",
   "execution_count": null,
   "id": "b5dafb4e",
   "metadata": {},
   "outputs": [],
   "source": []
  }
 ],
 "metadata": {
  "kernelspec": {
   "display_name": "Python 3 (ipykernel)",
   "language": "python",
   "name": "python3"
  },
  "language_info": {
   "codemirror_mode": {
    "name": "ipython",
    "version": 3
   },
   "file_extension": ".py",
   "mimetype": "text/x-python",
   "name": "python",
   "nbconvert_exporter": "python",
   "pygments_lexer": "ipython3",
   "version": "3.10.9"
  }
 },
 "nbformat": 4,
 "nbformat_minor": 5
}
