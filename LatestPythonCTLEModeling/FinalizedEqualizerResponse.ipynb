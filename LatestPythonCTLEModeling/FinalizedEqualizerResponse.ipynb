{
 "cells": [
  {
   "cell_type": "code",
   "execution_count": 2,
   "id": "ba21fdc5",
   "metadata": {},
   "outputs": [
    {
     "name": "stdout",
     "output_type": "stream",
     "text": [
      "(-625*s - 25)/(25*s + 13.5)\n"
     ]
    }
   ],
   "source": [
    "\n",
    "sympy.init_printing() \n",
    "t, s = sympy.symbols('t, s') \n",
    "a = sympy.symbols('a', real=True, positive=True)\n",
    "\n",
    "#function definitions for common functions from laplace transforms\n",
    "def exp(a): \n",
    "    return sympy.exp(a)\n",
    "def invL(F): \n",
    "    return sympy.inverse_laplace_transform(F, s, t)\n",
    "def DiracDelta(t): \n",
    "    return 1\n",
    "def Heaviside(t): \n",
    "    return sympy.Heaviside(t) \n",
    "\n",
    "def transferResponse(gm, rs, rd, cs):\n",
    "    F=((-gm*rd)*(rs*cs*s+1))/((rs*cs*s+1)+(gm*rs)/2)\n",
    "    return(F)\n"
   ]
  },
  {
   "cell_type": "code",
   "execution_count": null,
   "id": "178f5455",
   "metadata": {},
   "outputs": [],
   "source": []
  }
 ],
 "metadata": {
  "kernelspec": {
   "display_name": "Python 3 (ipykernel)",
   "language": "python",
   "name": "python3"
  },
  "language_info": {
   "codemirror_mode": {
    "name": "ipython",
    "version": 3
   },
   "file_extension": ".py",
   "mimetype": "text/x-python",
   "name": "python",
   "nbconvert_exporter": "python",
   "pygments_lexer": "ipython3",
   "version": "3.11.3"
  }
 },
 "nbformat": 4,
 "nbformat_minor": 5
}
