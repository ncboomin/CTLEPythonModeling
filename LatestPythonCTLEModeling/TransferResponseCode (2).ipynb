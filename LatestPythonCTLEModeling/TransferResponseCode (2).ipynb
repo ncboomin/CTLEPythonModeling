{
 "cells": [
  {
   "cell_type": "markdown",
   "id": "1e497bbf",
   "metadata": {},
   "source": [
    "The below code represents a time-domain CTLE response as document by Behzad Razavi in the following document: https://www.seas.ucla.edu/brweb/papers/Journals/BR_SSCM_4_2021.pdf"
   ]
  },
  {
   "cell_type": "code",
   "execution_count": 1,
   "id": "d9f2ced0",
   "metadata": {},
   "outputs": [],
   "source": [
    "import numpy as np\n",
    "import scipy.signal as signal \n",
    "%matplotlib notebook \n",
    "import matplotlib.pyplot as plt \n",
    "import sympy \n",
    "import math \n",
    "from sympy import*\n",
    "\n",
    "#CTLE formula provided in the referenced UCLA domain utilized S-Domain Parameters\n",
    "# - https://dynamics-and-control.readthedocs.io/en/latest/1_Dynamics/3_Linear_systems/Laplace%20transforms.html\n",
    "#Henceforth, I used the inverse laplace functions from the sympy library to convert the function to a time domain\n",
    "#function that can be plotted\n",
    "\n",
    "sympy.init_printing() \n",
    "t, s = sympy.symbols('t, s') \n",
    "a = sympy.symbols('a', real=True, positive=True)\n",
    "\n",
    "#function definitions for common functions from laplace transforms\n",
    "def exp(a): \n",
    "    return sympy.exp(a)\n",
    "def invL(F): \n",
    "    return sympy.inverse_laplace_transform(F, s, t)\n",
    "def DiracDelta(t): \n",
    "    return 1\n",
    "def Heaviside(t): \n",
    "    return sympy.Heaviside(t) \n",
    "\n",
    "\n",
    "\n",
    "\n",
    "\n",
    "\n",
    "S=-1.0*DiracDelta(t) + 0.5*exp(-1.5*t)*Heaviside(t)\n",
    "\n",
    "def transferResponse(gm, rs, rf, cs, gm2):\n",
    "    rt=-rf*(1-(1/(gm2*rf)))\n",
    "    F=((-gm*rt)*(rs*cs*s+1))/((rs*cs*s+1)+(gm*rs)/2)\n",
    "    print(F)\n",
    "    return(F)\n",
    "\n",
    "\n",
    "###CODE FOR REGULAR LAPLACE TRANSFORM\n",
    "def inputToLaplace(inputSig):\n",
    "    P = sympy.laplace_transform(inputSig, t, s, noconds=True)\n",
    "    return(P)\n",
    "    \n",
    "def inverseLaplace(outputSig):\n",
    "    out=invL(outputSig.apart(s))\n",
    "    print(out)\n",
    "    return(out)\n",
    "    \n",
    "    \n",
    "    \n",
    "    \n",
    "\n",
    "\n"
   ]
  },
  {
   "cell_type": "code",
   "execution_count": null,
   "id": "8a8d70e7",
   "metadata": {},
   "outputs": [],
   "source": []
  }
 ],
 "metadata": {
  "kernelspec": {
   "display_name": "Python 3 (ipykernel)",
   "language": "python",
   "name": "python3"
  },
  "language_info": {
   "codemirror_mode": {
    "name": "ipython",
    "version": 3
   },
   "file_extension": ".py",
   "mimetype": "text/x-python",
   "name": "python",
   "nbconvert_exporter": "python",
   "pygments_lexer": "ipython3",
   "version": "3.11.3"
  }
 },
 "nbformat": 4,
 "nbformat_minor": 5
}
