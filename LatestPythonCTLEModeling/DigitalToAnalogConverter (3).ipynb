{
 "cells": [
  {
   "cell_type": "code",
   "execution_count": 1,
   "id": "9103d39f",
   "metadata": {},
   "outputs": [
    {
     "name": "stdout",
     "output_type": "stream",
     "text": [
      "11.7333333333333/s\n",
      "110111"
     ]
    }
   ],
   "source": [
    "import numpy as np\n",
    "import scipy.signal as signal \n",
    "%matplotlib notebook \n",
    "import matplotlib.pyplot as plt \n",
    "import sympy \n",
    "import math \n",
    "t, s = sympy.symbols('t, s')\n",
    "a = sympy.symbols('a', real=True, positive=True)\n",
    "\n",
    "#Takes in a 4 bit sequence, (ie;1011), and converts this to its decimal equivalent\n",
    "#Based on the input voltage provided, this binary value output is respectively scaled\n",
    "\n",
    "\n",
    "#Laplace transformation of this time domain voltage\n",
    "\n",
    "#print(F)\n",
    "\n",
    "\n",
    "\n",
    "#Converts the PRBS value specified and overall max voltage into a S-Domain F(s) equation.\n",
    "def SDomainAnalogInput(binaryInput, maxVoltage):\n",
    "    highestVolts = maxVoltage\n",
    "    stepVoltage = maxVoltage/15;\n",
    "    level = int(binaryInput, 2)\n",
    "    voltAtLevel = level*stepVoltage\n",
    "    F = sympy.laplace_transform(voltAtLevel, t, s, noconds=True)\n",
    "    print(F)\n",
    "    return F\n",
    "\n",
    "z=SDomainAnalogInput(\"1011\", 16)\n",
    "\n",
    "def convertToBinary(n):\n",
    "   if(n > 1):\n",
    "       convertToBinary(n//2)\n",
    "   print(n % 2,end = '')\n",
    "\n",
    "convertToBinary(55)\n",
    "\n",
    "def createDigitalOutput(inputSignal, maxVoltage):\n",
    "    curVoltage=inputVoltage\n",
    "    stepVoltage = inputSignal/maxVoltage;\n",
    "    numToConvert=round(stepVoltage*63)\n",
    "    \n",
    "    \n",
    "    \n",
    "    \n",
    "    \n",
    "\n",
    "\n",
    "\n",
    "\n",
    "  \n",
    "\n",
    "\n"
   ]
  },
  {
   "cell_type": "code",
   "execution_count": null,
   "id": "b5dafb4e",
   "metadata": {},
   "outputs": [],
   "source": []
  },
  {
   "cell_type": "code",
   "execution_count": null,
   "id": "3c97226d",
   "metadata": {},
   "outputs": [],
   "source": []
  }
 ],
 "metadata": {
  "kernelspec": {
   "display_name": "Python 3 (ipykernel)",
   "language": "python",
   "name": "python3"
  },
  "language_info": {
   "codemirror_mode": {
    "name": "ipython",
    "version": 3
   },
   "file_extension": ".py",
   "mimetype": "text/x-python",
   "name": "python",
   "nbconvert_exporter": "python",
   "pygments_lexer": "ipython3",
   "version": "3.11.3"
  }
 },
 "nbformat": 4,
 "nbformat_minor": 5
}
