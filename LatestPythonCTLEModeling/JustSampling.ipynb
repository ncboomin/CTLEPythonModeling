{
 "cells": [
  {
   "cell_type": "code",
   "execution_count": 2,
   "id": "33c7cc2d",
   "metadata": {},
   "outputs": [],
   "source": [
    "from sympy import *\n",
    "import numpy as np\n",
    "t = symbols('t')\n",
    "\n",
    "def plotSampled(function, freq):\n",
    "    evalFunc=lambdify(t, function)\n",
    "    outputArr=np.linspace(0.0, 1.0, 100)\n",
    "    for i in range(len(outputArr)):\n",
    "        #print(outputArr[i])\n",
    "        print(evalFunc(outputArr[i]))\n",
    "    \n",
    "\n",
    "    \n",
    "    \n",
    "    \n"
   ]
  },
  {
   "cell_type": "code",
   "execution_count": null,
   "id": "0f94bfe4",
   "metadata": {},
   "outputs": [],
   "source": []
  }
 ],
 "metadata": {
  "kernelspec": {
   "display_name": "Python 3 (ipykernel)",
   "language": "python",
   "name": "python3"
  },
  "language_info": {
   "codemirror_mode": {
    "name": "ipython",
    "version": 3
   },
   "file_extension": ".py",
   "mimetype": "text/x-python",
   "name": "python",
   "nbconvert_exporter": "python",
   "pygments_lexer": "ipython3",
   "version": "3.11.3"
  }
 },
 "nbformat": 4,
 "nbformat_minor": 5
}
