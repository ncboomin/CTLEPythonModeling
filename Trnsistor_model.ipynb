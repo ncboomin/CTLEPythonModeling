{
 "cells": [
  {
   "cell_type": "markdown",
   "id": "8f271da4",
   "metadata": {},
   "source": [
    "Electrical characterization and Modelingof 22nm FDSOI for TAS-TIA CTLE Modeling"
   ]
  },
  {
   "cell_type": "markdown",
   "id": "a4cc4275",
   "metadata": {},
   "source": [
    "Defining the operation of Current as a function of thetha"
   ]
  },
  {
   "cell_type": "code",
   "execution_count": 1,
   "id": "7ee82615",
   "metadata": {},
   "outputs": [
    {
     "ename": "SyntaxError",
     "evalue": "invalid syntax (1508455584.py, line 11)",
     "output_type": "error",
     "traceback": [
      "\u001b[0;36m  File \u001b[0;32m\"/var/folders/v4/pzltsgfd7hn_k24ffg9tf5sh0000gn/T/ipykernel_2114/1508455584.py\"\u001b[0;36m, line \u001b[0;32m11\u001b[0m\n\u001b[0;31m    class nmos\u001b[0m\n\u001b[0m               ^\u001b[0m\n\u001b[0;31mSyntaxError\u001b[0m\u001b[0;31m:\u001b[0m invalid syntax\n"
     ]
    }
   ],
   "source": [
    "import numpy as np\n",
    "import pandas as pd\n",
    "import matplotlib.pyplot as plt\n",
    "import seaborn as sns\n",
    "import math\n",
    "import scipy as sp\n",
    "from lab_utils_uni import plt_intuition, plt_stationary, plt_update_onclick, soup_bowl\n",
    "plt.style.use('./deeplearning.mplstyle')\n",
    "\n",
    "\n",
    "class nmos: \n",
    "#Add Length \n",
    "L= 20e-9\n",
    "#Add Width with total width\n",
    "W=300e-9\n",
    "Fingers = 5\n",
    "Multiplicity = 2\n",
    "W_total = W*Fingers*Multiplicity\n",
    "# Threshold Voltage\n",
    "VTH = 300e-3\n",
    "#Gate to Source Voltage\n",
    "Vgs= 300e-3\n",
    "#Drain to Source Voltage\n",
    "Vds=300e-3\n",
    "#Transconductance\n",
    "gm = 50e-3\n",
    "#Silicon Dioxide Cap\n",
    "Cox = 1e-6\n",
    "# Drain Current\n",
    "ID = 500e-6\n",
    "#Operating Temperature\n",
    "T = 300\n",
    "def Operating_Region (Vgs,VTH,VDS,ID)\n",
    "    \n",
    "    if Vgs- 2*VTH < 0 and Vgs-VTH < \n",
    "    \n",
    "    ID = \n",
    "    \n",
    "        \n",
    "    \n",
    "\n"
   ]
  },
  {
   "cell_type": "code",
   "execution_count": null,
   "id": "a0229999",
   "metadata": {},
   "outputs": [],
   "source": []
  }
 ],
 "metadata": {
  "kernelspec": {
   "display_name": "Python 3 (ipykernel)",
   "language": "python",
   "name": "python3"
  },
  "language_info": {
   "codemirror_mode": {
    "name": "ipython",
    "version": 3
   },
   "file_extension": ".py",
   "mimetype": "text/x-python",
   "name": "python",
   "nbconvert_exporter": "python",
   "pygments_lexer": "ipython3",
   "version": "3.9.13"
  }
 },
 "nbformat": 4,
 "nbformat_minor": 5
}
